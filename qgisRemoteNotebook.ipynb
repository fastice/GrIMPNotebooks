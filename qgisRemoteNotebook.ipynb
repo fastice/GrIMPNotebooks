{
 "cells": [
  {
   "cell_type": "markdown",
   "id": "d466022d",
   "metadata": {
    "tags": []
   },
   "source": [
    "# Create a QGIS Project that Remotely Accesses GrIMP Products at NSIDC"
   ]
  },
  {
   "cell_type": "markdown",
   "id": "0dbc2bd1",
   "metadata": {},
   "source": [
    "## Notebook Purpose"
   ]
  },
  {
   "cell_type": "markdown",
   "id": "f6a9197b",
   "metadata": {},
   "source": [
    "This noteboook allows users to search for and select [GRiMP](https://nsidc.org/data/measures/grimp) products in the [NSIDC](https://nsidc.org/) archive to build a [*QGIS*](https://qgis.org/en/site/) project file that allows browsing of the remote data at NSIDC. Once the appropriate steps for authentication have been executed (see [**NSIDCLoginNotebook**](https://github.com/fastice/GRiMPNotebooks/blob/master/NSIDCLoginNotebook.ipynb)), the resulting [*QGIS*](https://qgis.org/en/site/) project can be opened to display products located remotely at NSIDC. The GrIMP products are stored as Cloud Optimized Geotiffs ([COGs](https://www.cogeo.org/)), which allows relatively fast display even over slow internet connections. Remote access through QGIS is often more convenient  than downloading the full data sets, some of which exceed 1TB. (See also [**GrIMPSubsetterNotebook**](https://github.com/fastice/GrIMPNotebooks/blob/master/GrIMPSubsetterNotebook.ipynb) for working with subsets of the data.)\n",
    "\n",
    "Running this notebook allows a user to:\n",
    "* Search the NSIDC archive for GrIMP products,\n",
    "* Create a QGIS project from the search results that allows viewing the data remotel in QGIS,\n",
    "* Have some control over how the data are organized in the project (e.g., by year), and\n",
    "* Save the results as layer definition files so they can be imported into pre-existing QGIS projects."
   ]
  },
  {
   "cell_type": "markdown",
   "id": "845ff57e",
   "metadata": {},
   "source": [
    "Note, it is best to restart the kernel each time this notebook runs, otherwise QGIS can cause the kernel to crash."
   ]
  },
  {
   "cell_type": "markdown",
   "id": "3148e7d8",
   "metadata": {},
   "source": [
    "## Setup"
   ]
  },
  {
   "cell_type": "markdown",
   "id": "678b3c71",
   "metadata": {},
   "source": [
    "The following packages are needed to execute this notebook. The notebook has been tested with the `environment.yml` in the *binder* folder of this repository. Thus, for best results, create a new conda environment to run this and other other GrIMP notebooks from this repository. \n",
    "\n",
    "`conda env create -f binder/environment.yml`\n",
    "\n",
    "`conda activate greenlandMapping`\n",
    "\n",
    "`python -m ipykernel install --user --name=greenlandMapping`\n",
    "\n",
    "`jupyter lab`\n",
    "\n",
    "See [NSIDCLoginNotebook](https://github.com/fastice/GrIMPNotebooks/blob/master/NSIDCLoginNotebook.ipynb) for additional information.\n",
    "\n",
    "The notebooks can be run on a temporary virtial instance (to start click [**binder**](https://mybinder.org/v2/gh/fastice/GrIMPNotebooks/HEAD?urlpath=lab)). See the github [README](https://github.com/fastice/GrIMPNotebooks#readme) for further details.\n",
    "\n",
    "**Note be sure to install the conda version of QGIS even when running _QGIS_ from a standalone installation**. In principle, the _QGIS_ API should be accessible from the installed application, but it often hard to find so its often easier to install seperately with conda."
   ]
  },
  {
   "cell_type": "code",
   "execution_count": null,
   "id": "b7d10ed9",
   "metadata": {},
   "outputs": [],
   "source": [
    "import os\n",
    "import sys\n",
    "# This path may need altering, or the entire command may be unnecessary.\n",
    "print(f'{os.environ[\"CONDA_PREFIX\"]}/share/qgis/python')\n",
    "sys.path.append(f'{os.environ[\"CONDA_PREFIX\"]}/share/qgis/python')\n",
    "import qgis.core as qc\n",
    "import qgis.gui as qg\n",
    "import dask\n",
    "from dask.diagnostics import ProgressBar\n",
    "ProgressBar().register()\n",
    "dask.config.set(num_workers=2)  # Avoid problems with too many open connections at NSIDC\n",
    "import panel as pn\n",
    "pn.extension()"
   ]
  },
  {
   "cell_type": "markdown",
   "id": "96915660",
   "metadata": {},
   "source": [
    "These [grimpfunc](https://github.com/fastice/grimpfunc) and [grimpqgis](https://github.com/fastice/grimpqgis) packages will have been automatically installed if the conda installation instructions were followed. They can also be installed directly with pip (if the pip install fails, try upgrading pip should fix the problem). "
   ]
  },
  {
   "cell_type": "code",
   "execution_count": null,
   "id": "9ebd094b",
   "metadata": {},
   "outputs": [],
   "source": [
    "import grimpfunc as grimp\n",
    "import grimpqgis as grimpq"
   ]
  },
  {
   "cell_type": "markdown",
   "id": "a2f0092a-4049-4ae4-a6dc-6c76bd00baad",
   "metadata": {},
   "source": [
    "## Help"
   ]
  },
  {
   "cell_type": "markdown",
   "id": "edc0a01b-dbc7-46ef-9639-16bccbbc31cb",
   "metadata": {},
   "source": [
    "**Note to get help and see options for any of the GrIMP or other functions while the cursor is positioned inside a method's parentheses, click shift+Tab.**"
   ]
  },
  {
   "cell_type": "markdown",
   "id": "7926bb16",
   "metadata": {},
   "source": [
    "## Login"
   ]
  },
  {
   "cell_type": "markdown",
   "id": "61afcd33",
   "metadata": {},
   "source": [
    "This procedure will authenticate to NSIDC (see [**NSIDCLoginNotebook**](https://github.com/fastice/GrIMPNotebooks/blob/master/NSIDCLoginNotebook.ipynb))."
   ]
  },
  {
   "cell_type": "code",
   "execution_count": null,
   "id": "2435451c",
   "metadata": {},
   "outputs": [],
   "source": [
    "env = dict(GDAL_HTTP_COOKIEFILE=os.path.expanduser('~/.grimp_download_cookiejar.txt'),\n",
    "            GDAL_HTTP_COOKIEJAR=os.path.expanduser('~/.grimp_download_cookiejar.txt'))\n",
    "os.environ.update(env)\n",
    "myLogin = grimp.NASALogin()\n",
    "myLogin.view()"
   ]
  },
  {
   "cell_type": "markdown",
   "id": "2e73a8e6",
   "metadata": {},
   "source": [
    "## Search for Data"
   ]
  },
  {
   "cell_type": "markdown",
   "id": "cccc9b8a",
   "metadata": {},
   "source": [
    "Running the cell below will pull up a panel that allows users to search for products at NISDC. \n",
    "\n",
    "* Products can be filtered by date range and band groups (e.g., velocity or velocity with errors). \n",
    "* Selecting a new product will append the result to the prior search. \n",
    "* Select a product family by pressing the appropriate button (e.g., *NSIDC-0723*), set the filter paramers and date range (default is all dates). \n",
    "* Then press **Search** to execute the search. The search results will be pre-pended to the result from any prior search. \n",
    "* To start over, press **Clear** to remove the entire search result. The search results are saved in `myUrls` for later use. "
   ]
  },
  {
   "cell_type": "code",
   "execution_count": null,
   "id": "46da4c29",
   "metadata": {},
   "outputs": [],
   "source": [
    "# For some environments the tool is unresponsive (i.e., search button doesn't work) - this can often be fixed by re-running this cell\n",
    "myUrls = grimp.cmrUrls()\n",
    "myUrls.view()"
   ]
  },
  {
   "cell_type": "markdown",
   "id": "34141dc8",
   "metadata": {},
   "source": [
    "Once the search is complete, advance to the next [step](#Setup-and-Start-a-Project). If everything has been setup correctly, the user can run the rest of the notebook (**Run->Run Selected Cell and All Below**)."
   ]
  },
  {
   "cell_type": "markdown",
   "id": "49b1a4c6",
   "metadata": {},
   "source": [
    "## Product Hierarchy for QGIS"
   ]
  },
  {
   "cell_type": "markdown",
   "id": "fe34802b",
   "metadata": {},
   "source": [
    "Products are saved in a QGIS project as groups and layers with the following hierarchy.\n",
    "* **Category1** (optional, e.g., Velocity or Images) \n",
    "    * **Product Family1** (e.g., annualVelocity, NSIDC0725)\n",
    "        * **Year** (optional)\n",
    "            * **ProductPrefix-YYYY-mm-dd.YYYY-mm-dd (e.g., Vel-2020-01-01.Vel-2020-01-06)**\n",
    "                * **band1** (e.g., browse, vx, vy)\n",
    "                * **band2**\n",
    "                * **...**\n",
    "    * **Product Family 2**\n",
    "        * **ProductPrefix-band-YYYY-mm-dd.YYY-mm-dd** (example with only one band, e.g., sigma0)\n",
    "        * **ProductPrefix-band-YYYY-mm-dd.YYY-mm-dd**\n",
    "        **...**\n",
    "* **Category2**\n",
    "    * **...**\n",
    "        \n",
    "A `productFamily` represents collection of products of the same type such as annual velocity (NSIDC-0725) mosaics or SAR image mosaics (NSIDC-0723) that that the user can group together in QGIS a project. Different product families can be established for the same product line. For example, the SAR image mosaics could be organized as two product families with one called **images** for the image data and another product family called **gamma0** for the $\\gamma_o$ products. Several product families may be grouped under a `Category` such as **Velocity** or **Images**. \n",
    "\n",
    "Each product can have a single (e.g,. *vv*) or multiple bands (*vv*, *vx*, and *vy*). For a single-band product family, the results are saved as `ProductPrefix`-`band`**-YYYY-mm-dd.YYY-mm-dd**. If the product has only a single date, the second date string is ommitted. Multi-band products are grouped together with the name `ProductPrefix`**-YYYY-mm-dd.YYYY-mm-dd**. In this case, each **band** is saved under its band name (e.g., *vx* and *vy*).\n",
    "\n",
    "The `Category`, `productFamily`, and `productPrefix` are completely user selectable. The `band` names are those used in the product names, but the user can choose which bands are included.\n",
    "\n",
    "By default the products under a product family are grouped by year. This feature can be turned off with `byYear=False`. \n",
    "\n",
    "The products for each family should all be of the same file *type*. Currently supported file types are *tif* and *shp*.\n",
    "\n",
    "An archive search as carried out above returns a list of urls stored in `myUrls`, which may contain data for multiple product families. These products can be separated appropriately using the the parameters `productFilePrefix` (e.g., *GL_vel_mosaic_Annual* and *GL_S1bks*) and `bands` (e.g., *vx*, *vy*, and *image*) as demonstrated below.      "
   ]
  },
  {
   "cell_type": "markdown",
   "id": "8cab6026",
   "metadata": {},
   "source": [
    "## Setup and Start a Project"
   ]
  },
  {
   "cell_type": "markdown",
   "id": "461eb234",
   "metadata": {},
   "source": [
    "The first step in setting up a QGIS project is to create an instance of `Qgis\n",
    "\n",
    "ProjectSetup` class as follows, which is used to define how products are organized within the QGIS project."
   ]
  },
  {
   "cell_type": "code",
   "execution_count": null,
   "id": "f9efc29a",
   "metadata": {},
   "outputs": [],
   "source": [
    "myProjectSetup = grimpq.QgisGrimpProjectSetup()"
   ]
  },
  {
   "cell_type": "markdown",
   "id": "f538f033",
   "metadata": {},
   "source": [
    "Examples for [terminus positions](#Terminus-Positions) (NSIDC-0642), individual glacier [TerraSAR-X](#Individual-Glacier-Velocities-(TSX)) (NSIDC-0481), [velocity mosaics](#Velocity-Mosaics) (NSIDC-0725, NSIDC-0727, NSIDC-0731), and [SAR mosaics](#SAR-Image-Mosaics) (NSIDC-0723), are included below. If a search yields results for a particular product family, the results will be included. If not, the QGIS project may contain the Category/productFamily with no data under it. Such 'blanks' can be avoided by tweaking the examples below to ensure only the desired product types are included.\n",
    "\n",
    "In the next step the path to where the QGIS project will be saved is specified (if not modified, this example will save projects *qgisProjects* in the directory above the one where this notebook is being run. If *qgisProjects* does not exist, it will be created. The full project path also should be specified with no extension (e.g. *qgisProject* as in this example)."
   ]
  },
  {
   "cell_type": "code",
   "execution_count": null,
   "id": "01735ba7",
   "metadata": {},
   "outputs": [],
   "source": [
    "qgisPath = 'qgisProjects'  # Modify as needed\n",
    "QgisProjectFileName = f'{qgisPath}/qgisProject'\n",
    "if not os.path.exists(qgisPath):\n",
    "    os.mkdir(qgisPath)  # Will fail if the directories above don't exist\n",
    "print(f'Project will be saved as: {QgisProjectFileName}')"
   ]
  },
  {
   "cell_type": "markdown",
   "id": "e9ae1799",
   "metadata": {},
   "source": [
    "Further customization can be performed by modifying the examples below. Note the order of the products in the QGIS legend is determined by the order they are added below (for python $\\geq$ 3.7). So in the examples below, the terminus positions are included first so they plot on top of the velocity and image data. The smaller TSX scenes are included next so they are not obscured by the larger full-Greenland mosaics."
   ]
  },
  {
   "cell_type": "markdown",
   "id": "40094718",
   "metadata": {
    "tags": []
   },
   "source": [
    "### Terminus Positions"
   ]
  },
  {
   "cell_type": "markdown",
   "id": "bb9ce0a3",
   "metadata": {
    "tags": []
   },
   "source": [
    "After creating `myProjectSetup`, product families need to be defined. The GrIMP [glacier termini products](https://nsidc.org/data/nsidc-0642/versions/1) are delivered as shape files (*shp*), and they will only be included if explicitly searched for [above](#Search-for-Data). They are added as follows:"
   ]
  },
  {
   "cell_type": "code",
   "execution_count": null,
   "id": "e291fd47",
   "metadata": {},
   "outputs": [],
   "source": [
    "if myUrls.checkIDs(['NSIDC-0642']):\n",
    "    myProjectSetup.addProductFamilies('Termini',\n",
    "                                      productFilePrefix='termini',\n",
    "                                      bands=['termini'],\n",
    "                                      fileType='shp',\n",
    "                                      byYear=False,\n",
    "                                      productPrefix='Greenland')\n",
    "    print('Including Terminus Products')"
   ]
  },
  {
   "cell_type": "markdown",
   "id": "026e0be2",
   "metadata": {},
   "source": [
    "There is only one terminus product for each year, so it doesn't really help to organize them by year (`byYear=False`). They will be organized as a product family `'Termini'`. The program will extract them from the list of returned urls using `productFilePrefix='termini'`. For this product, there is only one band (`'termini'`) with `fileType='shp'`. No category defined for this product since there is only one productFamily that would be filed under it."
   ]
  },
  {
   "cell_type": "markdown",
   "id": "cd198144",
   "metadata": {
    "tags": []
   },
   "source": [
    "### Individual Glacier Velocities (TSX)"
   ]
  },
  {
   "cell_type": "markdown",
   "id": "d10973e0",
   "metadata": {
    "tags": []
   },
   "source": [
    "The following cells will setup a product family for the [Selected Glacier Site Velocity Maps from Insar](https://nsidc.org/data/nsidc-0481/) (NSIDC-0481). The default display options are:"
   ]
  },
  {
   "cell_type": "code",
   "execution_count": null,
   "id": "d2caf368",
   "metadata": {},
   "outputs": [],
   "source": [
    "displayOptions = myProjectSetup.defaultDisplayOptions()  # Create a copy of the default options\n",
    "for key, value in displayOptions.items():\n",
    "    print(f'{key}: {value}' )"
   ]
  },
  {
   "cell_type": "markdown",
   "id": "f4c57761",
   "metadata": {},
   "source": [
    "As an example, the options in this dictionary can then be modified as follows:"
   ]
  },
  {
   "cell_type": "code",
   "execution_count": null,
   "id": "5f15284d",
   "metadata": {},
   "outputs": [],
   "source": [
    "displayOptions['vv']['colorTable'] = 'Inferno'  # Change color for speed\n",
    "displayOptions['vv']['maxV'] = 4000  # Change max value at which speed is clipped"
   ]
  },
  {
   "cell_type": "markdown",
   "id": "045d5b3f",
   "metadata": {},
   "source": [
    "The customized options are then passed back along with the other options."
   ]
  },
  {
   "cell_type": "code",
   "execution_count": null,
   "id": "ac2f8988",
   "metadata": {},
   "outputs": [],
   "source": [
    "tsxProperties = {'category': 'TSX', 'productPrefix': 'TSX',\n",
    "                 'bands': ['vv'], 'byYear': True, 'fileType': 'tif',\n",
    "                 'displayOptions': displayOptions}  # Add the display options"
   ]
  },
  {
   "cell_type": "markdown",
   "id": "90b67dad",
   "metadata": {},
   "source": [
    "The TSX products consist of many regional boxes as opposed to full Greenland mosaics like the products decribed above. Thus, it would be nice to organize them each under their respective 'box' (e.g., E61.10N - see Figure on Page 4 of the [User Guide](https://nsidc.org/data/nsidc-0481)). The names of the boxes found by the search can be recovered using `myUrls.findTSXBoxes()`."
   ]
  },
  {
   "cell_type": "code",
   "execution_count": null,
   "id": "e7ca5f61",
   "metadata": {},
   "outputs": [],
   "source": [
    "if myUrls.checkIDs(['NSIDC-0481']):\n",
    "    for productFamilyName in myUrls.findTSXBoxes():  # Note findTSXboxes can be replaced with a list of boxes (e.g., ['W72.90N',...])\n",
    "        myProjectSetup.addProductFamilies(productFamilyName,\n",
    "                                          productFilePrefix=f'TSX_{productFamilyName}',\n",
    "                                          category='TSX',\n",
    "                                          productPrefix='TSX',\n",
    "                                          bands=['vv'],\n",
    "                                          byYear=True,\n",
    "                                          fileType='tif',\n",
    "                                          displayOptions=displayOptions)\n",
    "    print('Added TSX products')"
   ]
  },
  {
   "cell_type": "markdown",
   "id": "6bf5a81f",
   "metadata": {},
   "source": [
    "In this example, the code cycles through all of the TSX box names returned by the search (`myUrls.findTSXBoxes()`) to create a separate `productFamily` for each box, which are all then organized under the category `'TSX'`. The command `myUrls.findTSXBoxes()` could be replaced with an explicit list of box names if desired. For this example, only one `band` (`'vv'` aka speed) was included, but the code can easily be modified to include others (e.g., `'vx'`, `'vy'`, `'ex'`, and `'ey'`). Because there could be several hundred products for a given box, this example opts to organize the results by year (`byYear=True`)."
   ]
  },
  {
   "cell_type": "markdown",
   "id": "b8dcf6ef",
   "metadata": {},
   "source": [
    "### Velocity Mosaics"
   ]
  },
  {
   "cell_type": "markdown",
   "id": "2a7bf438",
   "metadata": {},
   "source": [
    "The following cell will setup product families for the [annual](https://nsidc.org/data/nsidc-0725), [quarterly](https://nsidc.org/data/nsidc-0727), and [monthly](https://nsidc.org/data/nsidc-0731) velocity products. Note this step adds an additional level of filtering through `bands`. If a band was selected in the search above (e.g., `vx`) it will not be included unless its explicitly included in with the bands keyword (e.g., `bands=['vx']`). In this example, the *browse*, *vv*, *vx*, and *vy* products are all included by default. The default for the *Monthly* product is overridded to drop the *vx* and *vy* products. Note this example takes advantage of python's ability to specify keywords via a dictionary."
   ]
  },
  {
   "cell_type": "code",
   "execution_count": null,
   "id": "5fca6fbd",
   "metadata": {},
   "outputs": [],
   "source": [
    " # Parameters that apply to all velocity products initially (can be overridden later as is done for the Monthly product)\n",
    "velProperties = {'category': 'Velocity', 'productPrefix': 'Vel',\n",
    "                 'bands': ['browse', 'vv', 'vx', 'vy'], 'byYear': True, 'fileType': 'tif'}\n",
    "if myUrls.checkIDs(['NSIDC-0725', 'NSIDC-0727', 'NSIDC-0731', 'NSIDC-0766']): # Modify above to include or exclude this step\n",
    "    # Create a product family for each mosaic type\n",
    "    for productFamilyName in ['Annual', 'Quarterly', 'Monthly', 's1cycle']:\n",
    "        myProjectSetup.addProductFamilies(productFamilyName,\n",
    "                                          productFilePrefix=f'GL_vel_mosaic_{productFamilyName}',\n",
    "                                          **velProperties)\n",
    "    # Modify the bands included for the monthly products\n",
    "    myProjectSetup.productFamilies['Monthly']['bands'] = ['browse', 'vv']\n",
    "    print('Including Velocity Products')"
   ]
  },
  {
   "cell_type": "markdown",
   "id": "34cba653",
   "metadata": {},
   "source": [
    "### SAR Image Mosaics"
   ]
  },
  {
   "cell_type": "markdown",
   "id": "25ca40a3",
   "metadata": {},
   "source": [
    "This example sets up a product family for [image mosaic](https://nsidc.org/data/nsidc-0723) products (NSIDC-0723). The code can be edited to change which bands are selected (*image*, *sigma0*, and *gamma0*). As originally written, all bands (*image*, *sigma0* and *gamma0*) are included. If only a subset of these bands was included in the search its best to edit out the ones not being used to avoid blank headings."
   ]
  },
  {
   "cell_type": "code",
   "execution_count": null,
   "id": "687f3602",
   "metadata": {},
   "outputs": [],
   "source": [
    "productFamilyName = 'Image Mosaics'\n",
    "if myUrls.checkIDs(['NSIDC-0723']):\n",
    "    myProjectSetup.addProductFamilies(productFamilyName, category='Imagery',\n",
    "                                      productPrefix='SAR',\n",
    "                                      productFilePrefix='GL_S1bks',\n",
    "                                      bands=['image', 'gamma0', 'sigma0'],\n",
    "                                      byYear=True,\n",
    "                                      fileType='.tif')\n",
    "    print('Including image products')"
   ]
  },
  {
   "cell_type": "markdown",
   "id": "44e17d97",
   "metadata": {},
   "source": [
    "In the QGIS project, the image products will be organized under the Category **Imagery**, the Product Family **Image Mosaics** and the year of aquisition. Each product will be named **SAR-band-YYYY-mm-dd.YYYY-mm-dd**."
   ]
  },
  {
   "cell_type": "markdown",
   "id": "73d5bb7e",
   "metadata": {},
   "source": [
    "### Adding the Data"
   ]
  },
  {
   "cell_type": "markdown",
   "id": "77e977cc",
   "metadata": {},
   "source": [
    "In the search process above, a set of urls (links) to the data were collected and stored in `myUrls`. The steps immediately above defined how these products should be organized in the *QGIS* project. The next step is to link the products pointed to by the *urls* to the configuration defined by `myProjectSetup`. This step is performed separately for *tif* (aka cog) and *shp* products as follows:"
   ]
  },
  {
   "cell_type": "code",
   "execution_count": null,
   "id": "94a181f3",
   "metadata": {},
   "outputs": [],
   "source": [
    "if myUrls.checkIDs(['NSIDC-481', 'NSIDC-0723', 'NSIDC-0725', 'NSIDC-0727', 'NSIDC-0731', 'NSIDC-0766']): # Only do if relevant products are included\n",
    "    myProjectSetup.getProductFamilies(urls=myUrls.getCogs())  # Tif products requested so add cogs\n",
    "if myUrls.checkIDs(['NSIDC-0642']):\n",
    "    myProjectSetup.getProductFamilies(urls=myUrls.getShapes())  # Add the shps if requested"
   ]
  },
  {
   "cell_type": "markdown",
   "id": "9b7dedbc",
   "metadata": {},
   "source": [
    "Based on the product family definitions above, the step above will organize each url-linked product under the appropriate heading in the project. Once this step has run, the QGIS API can be use to build the project."
   ]
  },
  {
   "cell_type": "markdown",
   "id": "a119cbde",
   "metadata": {},
   "source": [
    "## Build the QGIS Project"
   ]
  },
  {
   "cell_type": "markdown",
   "id": "67a699fc",
   "metadata": {},
   "source": [
    "**Note at least on some systems, the QGIS API does not exit gracefully. As a result, once the steps below are run, it is best to restart the kernel before running the notebook again.**"
   ]
  },
  {
   "cell_type": "markdown",
   "id": "3067b61c",
   "metadata": {},
   "source": [
    "Note some conda qgis installations do not set up the paths for the style directories properly. Lacking knowledge good knowledge of their location, we have included the appropriate files in the `share` directory of this notebook's repository. The line in the next cell `qc.QgsApplication.setPrefixPath('.', True)`, will cause *QGIS* to use `./share/.../`. This directory should either accompany the notebook or the path should be updated appropriately. It can be commented out of this paths are \n",
    "\n",
    "The first step is start up the stand-alone version of QGIS core routines as: "
   ]
  },
  {
   "cell_type": "code",
   "execution_count": null,
   "id": "e84268b8",
   "metadata": {},
   "outputs": [],
   "source": [
    "qc.QgsApplication.setPrefixPath('.', True)\n",
    "qgs = qc.QgsApplication([], False)\n",
    "qgs.initQgis()"
   ]
  },
  {
   "cell_type": "markdown",
   "id": "b121c537",
   "metadata": {},
   "source": [
    "Then create a gimp.QgisProject object, which will take the setup information from myProjectSetup to create myProject, which will use it to automatically generate a QGIS project. **This step could half an hour or more if there are several hundred products.**"
   ]
  },
  {
   "cell_type": "code",
   "execution_count": null,
   "id": "dac46944",
   "metadata": {},
   "outputs": [],
   "source": [
    "# This may produce read-only mode errors but it will still work\n",
    "myProject = grimpq.QgisGrimpProject(myProjectSetup)"
   ]
  },
  {
   "cell_type": "markdown",
   "id": "98cb3cec",
   "metadata": {},
   "source": [
    "Now that the project exists, save the individual [layer definition](#Layer-Definition-Files) files (comment out if not needed)."
   ]
  },
  {
   "cell_type": "code",
   "execution_count": null,
   "id": "b195f4c7",
   "metadata": {},
   "outputs": [],
   "source": [
    "myProject.saveLayerDefinitions(QgisProjectFileName, saveCategories=False)  # Save by product (e.g, annual, quarterly ...)\n",
    "myProject.saveLayerDefinitions(QgisProjectFileName, saveCategories=True)  # Save by product type (e.g., velocity, image...)"
   ]
  },
  {
   "cell_type": "code",
   "execution_count": null,
   "id": "af93041d",
   "metadata": {},
   "outputs": [],
   "source": [
    "myProject.saveProject(QgisProjectFileName)\n",
    "qgs.exitQgis()\n",
    "qgs.exit()"
   ]
  },
  {
   "cell_type": "markdown",
   "id": "5522dbaa",
   "metadata": {},
   "source": [
    "This completes the generation of a project file, which can be opened with QGIS (see the following sections for help)."
   ]
  },
  {
   "cell_type": "markdown",
   "id": "16fc45d4",
   "metadata": {},
   "source": [
    "## Performance Notes For Viewing Remote Data with QGIS"
   ]
  },
  {
   "cell_type": "markdown",
   "id": "22e80e7d",
   "metadata": {},
   "source": [
    "Browsing a single remote product at time can be remarkably fast even with a home connection due the efficient access possible with the [COG](https://www.cogeo.org/) format. But remote access does have its drawbacks. In particular, the time it takes QGIS to load when it starts up scales with the number of products since the program must verify each product by reading its header information. For 300 products this can take anywhere from 45 seconds to more than 5 minutes, depending on network speed. As a result, its not generally a good idea to include too many products in a project. For a partial mitigation of this problem, see working with layer definition files below. To debug a problem opening QGIS files, create a project with only a few files so that it will time out more quickly if there is an authentication problem ([**NSIDCLoginNotebook**](https://github.com/fastice/GrIMPNotebooks/blob/master/NSIDCLoginNotebook.ipynb)). See also these pre-built [projects](https://github.com/fastice/GrIMPQGISProjects).\n",
    "\n",
    "Due to network limitations, problems can occur when too many images are selected as visible (checked) at once so that QGIS tries to render them all simultaneously. This situation can cause network errors, especially if the number of NDIDC connections (15) is exceeded. To avoid such problems, the automatically generated *QGIS* projects have most of the layers unchecked at first. As best practice, avoid **Check All and Its Children** in *QGIS* unless there only a handful of products. Since generally only one or a few products can be viewed at once, navigate to the product of interest, check it to view it, then uncheck when moving to a different product (a few images can viewed simulaneously - for example to flicker pairs of images).\n",
    "\n",
    "**When network errors occur, an image may not render properly. If this occurs, uncheck excess images, then zoom in and out, which will trigger a reload that usually will re-render the image correctly (the error flag next to the product may persist even after the image loads correctly).**\n",
    "\n",
    "Assuming there are no authentication errors, then network errors usually are caused by the number of network accesses exceeding the number that NSIDC allows.  \n",
    "**In QGIS this problem can largely be eliminated by setting** `Preferences->Rendering->Max Cores to Use` **to <=2.**"
   ]
  },
  {
   "cell_type": "markdown",
   "id": "79c384ca",
   "metadata": {},
   "source": [
    "### QGIS Troubleshooting"
   ]
  },
  {
   "cell_type": "markdown",
   "id": "7ae17acc",
   "metadata": {},
   "source": [
    "The setup procedure has been verified to work with *QGIS* V3.16 and above. It did not work with at least one instance of V3.10. "
   ]
  },
  {
   "cell_type": "markdown",
   "id": "e68b2425",
   "metadata": {},
   "source": [
    "## Layer Definition Files"
   ]
  },
  {
   "cell_type": "markdown",
   "id": "a8c0628d",
   "metadata": {},
   "source": [
    "[Layer definition](https://getspatial.com/gisblog/tip-of-the-day-create-layer-definition-files-for-reuse-and-consistency/) files allow the individual Categories or ProductFamilies included in the automatically generated QGIS product to be imported to pre-existing projects. Or if a project takes too long to load because it has too many layers, layer definition files allow collections of layers to be saved (in *QGIS* right click on the group and select **Export**) then removed (right click on the group and select **Remove Group**) to speed things up. The layer definition file can then be used to re-import the results later as needed (in QGIS **Layers->Add From Layer Definition File**). In the above example, all of the **Categories** are saved *.qlr* files."
   ]
  },
  {
   "cell_type": "markdown",
   "id": "540405a2",
   "metadata": {},
   "source": [
    "## Final Notes"
   ]
  },
  {
   "cell_type": "markdown",
   "id": "8f5a6f55",
   "metadata": {},
   "source": [
    "If all went well, running this produced a working QGIS project. In order for it to work, authentication via a valid [*Earth Data Login*](https://urs.earthdata.nasa.gov/) is needed to access the data at *NSIDC*. The necessary authentication files can be setup by following the procedures in the [**NSIDCLoginNotebook**](https://github.com/fastice/GrIMPNotebooks)."
   ]
  }
 ],
 "metadata": {
  "kernelspec": {
   "display_name": "default",
   "language": "python",
   "name": "python3"
  },
  "language_info": {
   "codemirror_mode": {
    "name": "ipython",
    "version": 3
   },
   "file_extension": ".py",
   "mimetype": "text/x-python",
   "name": "python",
   "nbconvert_exporter": "python",
   "pygments_lexer": "ipython3",
   "version": "3.13.7"
  }
 },
 "nbformat": 4,
 "nbformat_minor": 5
}
