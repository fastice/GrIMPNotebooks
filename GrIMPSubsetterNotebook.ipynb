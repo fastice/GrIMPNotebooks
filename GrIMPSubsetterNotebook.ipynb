{
 "cells": [
  {
   "cell_type": "markdown",
   "id": "2b390ad7",
   "metadata": {},
   "source": [
    "# GrIMP Subsetter Notebook"
   ]
  },
  {
   "cell_type": "markdown",
   "id": "00fdbbe3",
   "metadata": {},
   "source": [
    "## Purpose"
   ]
  },
  {
   "cell_type": "markdown",
   "id": "c312b54a",
   "metadata": {},
   "source": [
    "This notebook allows users to download subsets of [GrIMP](https://nsidc.org/data/measures/r) image ([NSIDC-0723](https://nsidc.org/data/nsidc-0723)) and velocity ([NSIDC-481](https://nsidc.org/data/nsidc-0481), [0725](https://nsidc.org/data/nsidc-0725), [0727](https://nsidc.org/data/nsidc-0727), [0731](https://nsidc.org/data/nsidc-0731), [0766](https://nsidc.org/data/nsidc-0766)) data. For the Sentinel-based velocity mosaics (0725, 0727, 0731), a user can select a box on a map and choose which components are downloaded (vv, vx, vy, ex, ey, dT) and saved to a netCDF file. Once the download is complete, users can [explore](#Visualizing-the-Data) the data by interactively selecting points that are plotted as time series. In the case of the TSX/OPT products (NSDIC-0481 & NSIDC-0646), given relatively small size of each box (~50-km-by-50-km), the full product \"box\" is downloaded. Because of the sparse nature of these boxes, only the the products associated with a single box can be downloaded at a time."
   ]
  },
  {
   "cell_type": "markdown",
   "id": "917dd71e",
   "metadata": {},
   "source": [
    "While this notebook relies python, it is designed to be usable with no knowledge of python. In most cases, the default behavior will acomplish what most users want and customization can be carried out via minor tweaks of the parameters in the examples. To accomplish this goal, much of the actual python code is in [grimpfunc](https://github.com/fastice/grimpfunc) libary rather than the notebook itself. "
   ]
  },
  {
   "cell_type": "markdown",
   "id": "29289c3a",
   "metadata": {},
   "source": [
    "## Environment Setup"
   ]
  },
  {
   "cell_type": "markdown",
   "id": "fa857110",
   "metadata": {},
   "source": [
    "_**There are several python packages that need to be installed to execute this notebook and potentially some jupyter lab/notebook extensions. Please follow the procedures outlined in the [**NSIDCLoginNotebook**](https://github.com/fastice/GrIMPNotebooks/blob/master/NSIDCLoginNotebook.ipynb)**_. These instructions assume a [*conda*](https://www.anaconda.com/products/individual) (Anaconda) install but should translate well to *pip* or other package managers. The following cell will load all of the necessary packages once they are installed. If errors occur, make sure all of the packages are installed as described in the [**NSIDCLoginNotebook**](https://github.com/fastice/GrIMPNotebooks/blob/master/NSIDCLoginNotebook.ipynb) are installed. \n",
    "\n",
    "The following packages are needed to execute this notebook. The notebook has been tested with the `environment.yml` in the *binder* folder of this repository. Thus, for best results, create a new conda environment to run this and other other GrIMP notebooks from this repository. \n",
    "\n",
    "`conda env create -f binder/environment.yml`\n",
    "\n",
    "`conda activate greenlandMapping`\n",
    "\n",
    "`python -m ipykernel install --user --name=greenlandMapping`\n",
    "\n",
    "`jupyter lab`\n",
    "\n",
    "See [NSIDCLoginNotebook](https://github.com/fastice/GrIMPNotebooks/blob/master/NSIDCLoginNotebook.ipynb) for additional information.\n",
    "\n",
    "The notebooks can be run on a temporary virtial instance (to start click [**binder**](https://mybinder.org/v2/gh/fastice/GrIMPNotebooks/HEAD?urlpath=lab)). See the github [README](https://github.com/fastice/GrIMPNotebooks#readme) for further details."
   ]
  },
  {
   "cell_type": "markdown",
   "id": "f61504c1-1153-49da-9ad5-6e0130fe11fb",
   "metadata": {},
   "source": [
    "## Python Setup"
   ]
  },
  {
   "cell_type": "markdown",
   "id": "110491eb",
   "metadata": {},
   "source": [
    "Execute the rest of the cells in this section to load the packages needed to run this notebook."
   ]
  },
  {
   "cell_type": "code",
   "execution_count": null,
   "id": "3b4db673",
   "metadata": {},
   "outputs": [],
   "source": [
    "%load_ext autoreload\n",
    "%autoreload 2\n",
    "import grimpfunc as grimp\n",
    "import panel as pn\n",
    "pn.extension()\n",
    "import nisardev as nisar\n",
    "import rioxarray\n",
    "import xarray as xr\n",
    "import holoviews as hv\n",
    "import os\n",
    "import dask\n",
    "import pandas as pd\n",
    "from dask.diagnostics import ProgressBar\n",
    "dask.config.set(num_workers=2)  # Avoid problems with too many open connections at NSIDC\n",
    "import param\n",
    "import grimpfunc.NASALogin as NASALogin\n",
    "ProgressBar().register()"
   ]
  },
  {
   "cell_type": "markdown",
   "id": "f165204c-e3c7-4a53-b03f-c1e6eafbaffc",
   "metadata": {},
   "source": [
    "## Help"
   ]
  },
  {
   "cell_type": "markdown",
   "id": "7f7ef211-dbf8-4983-af40-eeb715af6e2a",
   "metadata": {},
   "source": [
    "**Note to get help and see options for any of the GrIMP or other functions while the cursor is positioned inside a method's parentheses, click shift+Tab.**"
   ]
  },
  {
   "cell_type": "markdown",
   "id": "9082c84d-b6e9-42bc-b279-36c820ba0a5b",
   "metadata": {},
   "source": [
    "## Trouble Shooting"
   ]
  },
  {
   "cell_type": "markdown",
   "id": "cd88409e-363a-473a-8cbb-6c0144042cde",
   "metadata": {},
   "source": [
    "NSIDC limits the number of simultaneous connections. As a result, a download can sometimes fail, especially if multiple notebooks are downloading or the ```num_workers``` is set to large. In these cases, try rerunning with only a single notebook downloading or ```num_workers=2``` (current default)."
   ]
  },
  {
   "cell_type": "markdown",
   "id": "6048398f",
   "metadata": {},
   "source": [
    "## Preliminary Setup"
   ]
  },
  {
   "cell_type": "markdown",
   "id": "9c43cb2b",
   "metadata": {},
   "source": [
    "The first step is where users can choose the directory where the subsetted results will be saved. If the directory is not present, it will be created (note the directory where it will be created must exist). The final product filename can be customized [below](#set_filename). "
   ]
  },
  {
   "cell_type": "code",
   "execution_count": null,
   "id": "ba699850",
   "metadata": {},
   "outputs": [],
   "source": [
    "subsetPath = 'Subsets'  # Modify as needed\n",
    "if not os.path.exists(subsetPath):\n",
    "    os.mkdir(subsetPath)  # Will fail if the directories above don't exist"
   ]
  },
  {
   "cell_type": "markdown",
   "id": "5d6700c4",
   "metadata": {},
   "source": [
    "## Login if Needed"
   ]
  },
  {
   "cell_type": "markdown",
   "id": "353b2d1a",
   "metadata": {},
   "source": [
    "This step logs the user in to NSIDC using their NASA [Earth Data Login](https://urs.earthdata.nasa.gov/) credentials and saves the password in the users *.netrc* file (see [**NSIDCLoginNotebook**](https://github.com/fastice/GrIMPNotebooks/blob/master/NSIDCLoginNotebook.ipynb) for details on potential security risks). \n",
    "\n",
    "The credentials do not need to be re-entred if they are still present from a prior login."
   ]
  },
  {
   "cell_type": "code",
   "execution_count": null,
   "id": "bef7ceef",
   "metadata": {},
   "outputs": [],
   "source": [
    "myLogin = NASALogin()\n",
    "myLogin.view()"
   ]
  },
  {
   "cell_type": "markdown",
   "id": "4e0274ca",
   "metadata": {},
   "source": [
    "Update environment to find cookie files."
   ]
  },
  {
   "cell_type": "code",
   "execution_count": null,
   "id": "79762312",
   "metadata": {},
   "outputs": [],
   "source": [
    "env = dict(GDAL_HTTP_COOKIEFILE=os.path.expanduser('~/.grimp_download_cookiejar.txt'),\n",
    "            GDAL_HTTP_COOKIEJAR=os.path.expanduser('~/.grimp_download_cookiejar.txt'))\n",
    "os.environ.update(env)"
   ]
  },
  {
   "cell_type": "markdown",
   "id": "0c6fb05b",
   "metadata": {},
   "source": [
    "## Find Data"
   ]
  },
  {
   "cell_type": "markdown",
   "id": "64c5bf79",
   "metadata": {},
   "source": [
    "The first step is to locate the products of interest, which is done using the same search tool that is used for [**qgisRemoteNotebook**](https://github.com/fastice/GrIMPNotebooks/blob/master/qgisRemoteNotebook.ipynb), but with some key differences. Specifically, to avoid mixing data products of different sizes and resolutions, only a single product type (e.g., NSIDC-0723 *image* mosaics) can be searched for and retrieved at a time. For velocity products, the desired bands (*vv, vy, vx, ex, ey*, and *dT*) can be selected at later [stage](#Preload-Data-and-Select-Bands). Unlike the [**qgisRemoteNotebook**](https://github.com/fastice/GrIMPNotebooks/blob/master/qgisRemoteNotebook.ipynb) search, TSX (NSIDC-0481) boxes are specified by name (e.g., *W69.10N*) rather than by a bounding box. A map of the box locations included in the NSIDC-0481 [User Guide](https://nsidc.org/data/nsidc-0481/versions/3)."
   ]
  },
  {
   "cell_type": "markdown",
   "id": "5eb685ba",
   "metadata": {},
   "source": [
    "To carry out a search, run the next cell to bring up the search panel and perform a search. Once a search has completed and the desired products are listed, proceed to the [next steps](#Spatial-Subsetting). Once the results have been processed and downloaded, a new search can be peformed to find and download additional data. "
   ]
  },
  {
   "cell_type": "code",
   "execution_count": null,
   "id": "d2d255d6",
   "metadata": {},
   "outputs": [],
   "source": [
    "# For some environments, the tool is unresponsive (i.e., search button doesn't work) - this can often be fixed by re-running this cell - seems to be fixed 08/19/2025\n",
    "myUrls = grimp.cmrUrls(mode='subsetter')  # Subsetter mode is required for subsetting.\n",
    "myUrls.initialSearch(product='NSIDC-0725', firstDate='2014-01-01', lastDate='2026-01-01') # Will do an intial search using these keywords\n",
    "#myUrls.view()  # uncomment and comment line above to start with no initial search"
   ]
  },
  {
   "cell_type": "markdown",
   "id": "3c2d2252",
   "metadata": {},
   "source": [
    "## Subsetting Basics"
   ]
  },
  {
   "cell_type": "markdown",
   "id": "db364da2",
   "metadata": {},
   "source": [
    "Examples are included below for [Velocity Mosaics](#Velocity-Mosaics-(NSIDC-0725,-0727,-and-0731)), [Individual Glaciers](#Indidvidual-Glaciers-(NSIDC-0481)), and [Image Mosaics](#Image-Mosaics). Before jumping to one one of these steps, its important to describe the data formats and to provide some background on the tools used."
   ]
  },
  {
   "cell_type": "markdown",
   "id": "e2acbb21",
   "metadata": {},
   "source": [
    "### NetCDF and Xarray"
   ]
  },
  {
   "cell_type": "markdown",
   "id": "7135b2ff",
   "metadata": {},
   "source": [
    "The subsetted data are downloaded to NetCDF ([Network Common Data Format](https://www.unidata.ucar.edu/software/netcdf/)) files, which allows storage of data with multiple layers coincident with the meta data describing these layers. For GrIMP data sets it is particularly useful because multiple maps (hundreds or more) in a time series can be stored in a single file and easy and rapid accessed. By contrast, if the data are stored in individual files, potentially hundreds of files need to be opened to access a single point in space and time."
   ]
  },
  {
   "cell_type": "markdown",
   "id": "4a8dac23",
   "metadata": {},
   "source": [
    "This and subsequent notebooks make extensive use of [xarray](http://xarray.pydata.org/en/stable/why-xarray.html), which is a python library that is especially well suited to working with NetCDF files. In particular, it can read NetCDF files into well-labeled arrays along with meta-data structures. Here we also take advantage of [rioxarray](https://corteva.github.io/rioxarray/stable/), which builds on xarray to add the ability to append coordinate reference system [CRS](https://proj.org/faq.html#what-is-the-best-format-for-describing-coordinate-reference-systems) information. It also adds capability from the [rasterio](https://rasterio.readthedocs.io/en/latest/) library for working with geospatial imagery. These programs also utilize [dask](https://dask.org/) to perform parallel operations, which can greatly speed data access. The main focus of this notebook is on subsetting the data rather than working with the downloaded result. A subsequent notebook will provide examples of working with xarray data in greater detail. That said, a tool for visualizing the data for basic inspection is included [below](#Visualizing-the-Data)."
   ]
  },
  {
   "cell_type": "markdown",
   "id": "588888fa",
   "metadata": {},
   "source": [
    "The data sets stored as xarrays are organized as 4-D arrays indexed by **time** ([np.datetime64](https://numpy.org/doc/stable/reference/arrays.datetime.html)), **component** (e.g., 'vx', 'vy', 'image'), and **x** and **y**, which are the [EPSG 3413](https://epsg.io/3413)-projection coordinates in meters. The time range is selected as part of the search described above. The appropriate components can be selected [below](#Visualizing-the-Data). For all but NISDC-0481, the spatial subsetting is performed as the next step. "
   ]
  },
  {
   "cell_type": "markdown",
   "id": "c95a4e20",
   "metadata": {},
   "source": [
    "## Spatial Subsetting"
   ]
  },
  {
   "cell_type": "markdown",
   "id": "5c699cd9",
   "metadata": {},
   "source": [
    "The area to be subsetted is specified as a python dictionary with minimum and maximum *x* and *y* values. Before selecting a box consider the size. For example, with no compression once the data are read, the full NISDC-0723 image data set is >1.700 TB (just for one band). The main benefit of this notebook is that a particular region of interest can be extracted without requiring that the whole data set be downloaded, greatly reducing the volume of data to be downloaded and stored. When not loading a previously created search region, there are two methods for selecting a new region of interest. Before the final subsetting, the user can review the size of the product and iterate as needed to produce a reasonably sized data set. While the region of interest can be selected, all products are downloaded at their original grid spacing.\n",
    "\n",
    "_**Note due to the small size of the NSIDC-0481 (aka TSX) products, the entire products are downloaded with no subsetting. Thus, if NSIDC-0481 products were selected, the subsetting steps will be bypassed.**_"
   ]
  },
  {
   "cell_type": "markdown",
   "id": "6004bfb1",
   "metadata": {},
   "source": [
    "### Method 1: Manual Selection"
   ]
  },
  {
   "cell_type": "markdown",
   "id": "4aba1905",
   "metadata": {},
   "source": [
    "The coordinates for bounding box, `bbox`, can be manually entered by modifying the cell below with the desired values. Even if not using interactive [selection](#Method-2:-Interactive-Selection), running that step displays the manually selected box coordinates on radar map of Greenland. Note by default, coordinates are rounded to the nearest kilometer. This behavior can be modified [below](#rounding_info)."
   ]
  },
  {
   "cell_type": "code",
   "execution_count": null,
   "id": "f770d811",
   "metadata": {},
   "outputs": [],
   "source": [
    "bbox = {'minx': -243500, 'miny': -2295000, 'maxx': -149000, 'maxy': -2255000}  # Modifiy values as needed\n",
    "boxPicker = grimp.boxPicker(bbox=bbox)  # Create a map for possible viewing"
   ]
  },
  {
   "cell_type": "markdown",
   "id": "8f3c391c",
   "metadata": {},
   "source": [
    "If a box was saved as part of a prior [download](#Subset-and-Download-Data), it can be reloaded here by uncommenting and modifying the cell below with the name of the file."
   ]
  },
  {
   "cell_type": "code",
   "execution_count": null,
   "id": "d0f84b7a",
   "metadata": {},
   "outputs": [],
   "source": [
    "# boxPicker = grimp.boxPicker(boxFile='changetoboxname.yaml')"
   ]
  },
  {
   "cell_type": "markdown",
   "id": "ff8e8134",
   "metadata": {},
   "source": [
    "### Method 2: Interactive Selection"
   ]
  },
  {
   "cell_type": "markdown",
   "id": "51d2a631",
   "metadata": {},
   "source": [
    "Run the next the tool below to select the bounding box (or modify a manually selected box), which will display a SAR image map. Depending on network speed, it could take a few seconds to a minute to load the basemap. Use the box tool in the plot menu to select a region of interest. Then proceed to the next [step](#Preload-Data-and-Select-Bands)."
   ]
  },
  {
   "cell_type": "code",
   "execution_count": null,
   "id": "2eac97a9-ba7a-4600-9f61-4f132bb78b33",
   "metadata": {},
   "outputs": [],
   "source": [
    "boxPicker.boxBounds()"
   ]
  },
  {
   "cell_type": "code",
   "execution_count": null,
   "id": "1c1ea59c",
   "metadata": {},
   "outputs": [],
   "source": [
    "if 'boxPicker' not in locals(): # Only create if not defined above\n",
    "    boxPicker = grimp.boxPicker()\n",
    "boxPicker.plotMap(show=(not myUrls.checkIDs(['NSIDC-0481']) and not myUrls.checkIDs(['NSIDC-0646'])))  # Skips map if a 481 product"
   ]
  },
  {
   "cell_type": "markdown",
   "id": "31bf56e6",
   "metadata": {},
   "source": [
    "Once the desired box has been selected, proceed to appropriate section for the selected product type:  [Velocity Mosaics](#Velocity-Mosaics-(NSIDC-0725,-0727,-and-0731)), [Individual Glaciers](#Indidvidual-Glaciers-(NSIDC-0481)), and [Image Mosaics](#Image-Mosaics-(NSIDC-0723))."
   ]
  },
  {
   "cell_type": "markdown",
   "id": "3d268f48-607e-4df2-9c21-013052a8d141",
   "metadata": {},
   "source": [
    "## To Chunk or Not"
   ]
  },
  {
   "cell_type": "markdown",
   "id": "0f8577b1-a3c4-4a27-8a64-4392a81c528b",
   "metadata": {},
   "source": [
    "There are two ways to read the data, which are controlled by the parameter `useStack`:\n",
    "1) `useStack=True` (default): In this case, each band of the subsetted data is loaded as a single file read operation (e.g., no chunks in xy). For most cases, this is the faster option because there is no dask overhead and the single reads tend to be faster. This is the preferred option for anything that involves reading in data with `loadRemote` and doing repeated operations on the result. **Note: with this option, the keyword `chunks` will be ignored.**\n",
    "2) `useStack=False`: In this case, the data are chunked with rio-xarray and dask, which can add 10s of seconds or more overhead to set up the xarray, which slows the lazy reads. There are only a few use cases in which this mode would be preferred. For example, examining only a few points in a large subset **without** using `loadRemote`, so that as the data are input on the fly, only the chunks surrounding the points would be read. In most cases, it's best to minimize the subset area (e.g., for one glacier) or use multiple subsets for widely spaced glaciers."
   ]
  },
  {
   "cell_type": "code",
   "execution_count": null,
   "id": "e443fadf-b3d4-43ae-b129-48861a3b3482",
   "metadata": {},
   "outputs": [],
   "source": [
    "useStack=True"
   ]
  },
  {
   "cell_type": "markdown",
   "id": "34147b4b-35dd-4bd0-8eec-73fde335e19a",
   "metadata": {},
   "source": [
    "## Number of Workers"
   ]
  },
  {
   "cell_type": "markdown",
   "id": "721c9498-2349-4570-a92b-51f7aa2c5521",
   "metadata": {},
   "source": [
    "With Dask you can use `numWorkers` to specify multiple parallel threads, which can speed up downloads. It can also cause the download to fail (with something that looks like a file not found error) if the server decides it's receiving too many concurrent requests. The criteria under which this happens are unclear, and whether it has to do with the number of connections, open files, etc. This means the results could differ for the type of data product/access. For example, downloading a large number of TSX files (many file open operations per unit time) might cause things to break before the case where large pieces are pulled from full ice sheet mosaics (files are held open for long periods). Beyond `numWorkers=8`, the point of diminishing returns is approached. In general, `numWorkers=4` will be fairly robust, and provide good performance. But you can experiment by setting `numWorkers` below.  Note: this discussion is most applicable to network reads. For local file systems, the speedup may be substantially less due to file contention."
   ]
  },
  {
   "cell_type": "code",
   "execution_count": null,
   "id": "446662f9-8041-4c4a-8c20-d6b15d742402",
   "metadata": {},
   "outputs": [],
   "source": [
    "numWorkers = 4"
   ]
  },
  {
   "cell_type": "markdown",
   "id": "459e871f",
   "metadata": {},
   "source": [
    "## Preload Data and Select Bands"
   ]
  },
  {
   "cell_type": "markdown",
   "id": "88104c10",
   "metadata": {},
   "source": [
    "The cells in this section read the cloud-optimized geotiffs ([COG](https://www.cogeo.org/)) headers and create ```nisarVelSeries``` or ```nisarImageSeries``` objects for velocity or image data, respectively. The actual data are not downloaded at this stage, but the ```xarray``` internal to each object will read the header data of each product so it can efficiently access the data during later downloads. The bands (e.g., vx, vy) can be selected at this stage.\n",
    "\n",
    "More detail can found on working with these tools in the [workingWithGrIMPVelocityData](https://github.com/fastice/GrIMPNotebooks/blob/master/workingWithGrIMPVelocity.ipynb) and [workingWithGrIMPImageData](https://github.com/fastice/GrIMPNotebooks/blob/master/workingWithGrIMPImageData.ipynb) notebooks.\n",
    "\n",
    "Note that the product-specific cells will only run if the appropriate data type was selected. As a result, if everything else has been configured correctly, the rest of the notebook can be executed and it will skip unecessary cells."
   ]
  },
  {
   "cell_type": "markdown",
   "id": "c8c4d6c0",
   "metadata": {},
   "source": [
    "### Velocity Mosaics (NSIDC 0725, 0727, 0731, 0766)"
   ]
  },
  {
   "cell_type": "markdown",
   "id": "59f7545f",
   "metadata": {},
   "source": [
    "If velocity mosaic products were selected, this cell will read the COG headers and create an xarray inside a `nisarVelSeries` object. The `bands` list below can be edited to select which bands will be downloaded (see [user guide](https://nsidc.org/data/nsidc-0725) for band info)."
   ]
  },
  {
   "cell_type": "code",
   "execution_count": null,
   "id": "93a48394",
   "metadata": {},
   "outputs": [],
   "source": [
    "if myUrls.checkIDs(['NSIDC-0725', 'NSIDC-0727', 'NSIDC-0731', 'NSIDC-0766']):\n",
    "    products = nisar.nisarVelSeries()\n",
    "    products.readSeriesFromTiff(myUrls.getCogs(replace='vv', removeTiff=True), url=True, readSpeed=False, useErrors=True, useDT=True, useStack=True)\n",
    "    print('Velocity Mosaic Data Selected')"
   ]
  },
  {
   "cell_type": "code",
   "execution_count": null,
   "id": "8eb76f83-f519-41f4-b40a-0c1b28a8c4f9",
   "metadata": {},
   "outputs": [],
   "source": [
    "myUrls.getIDs()"
   ]
  },
  {
   "cell_type": "markdown",
   "id": "a376cbf8",
   "metadata": {},
   "source": [
    "If this block ran successfully the meta data for all relevant images to create the xarray, but the actual data themselves were not downloaded. This result is now ready to be subsetted and [downloaded](#Subset-and-Download-Data)."
   ]
  },
  {
   "cell_type": "markdown",
   "id": "89fb3f5b",
   "metadata": {},
   "source": [
    "### Indidvidual Glaciers (NSIDC-0481 and NSIDC-0646)"
   ]
  },
  {
   "cell_type": "markdown",
   "id": "843f1f0d",
   "metadata": {},
   "source": [
    "If individual glacier products were selected, this cell will read the COG headers and create an xarray inside a ```nisarVelSeries``` object. The bands list below can be edited to select which bands will be downloaded (see [user guide](https://nsidc.org/data/nsidc-0481/versions/3) for band info)."
   ]
  },
  {
   "cell_type": "code",
   "execution_count": null,
   "id": "fa7e2148",
   "metadata": {},
   "outputs": [],
   "source": [
    "if myUrls.checkIDs(['NSIDC-0481']) or myUrls.checkIDs(['NSIDC-0646']):\n",
    "    # Edit to add or remove bands\n",
    "    products = nisar.nisarVelSeries()\n",
    "    products.readSeriesFromTiff(myUrls.getCogs(replace='vx', removeTiff=True), url=True, readSpeed=False, useErrors=True, useStack=True)\n",
    "    print('Individual Glacier Data Selected')"
   ]
  },
  {
   "cell_type": "markdown",
   "id": "556e2049",
   "metadata": {},
   "source": [
    "If this block ran successfully the meta data for all relevant images to create the xarray, but the actual data themselves were not downloaded. This result is now ready to be [downloaded](#Subset-and-Download-Data)."
   ]
  },
  {
   "cell_type": "markdown",
   "id": "cd4d3c00",
   "metadata": {},
   "source": [
    "### Image Mosaics (NSIDC-0723)"
   ]
  },
  {
   "cell_type": "markdown",
   "id": "b9214162",
   "metadata": {},
   "source": [
    "The procedure for image mosaiacs is similar to that for the velocity data. The major exceptions are that only a single band can be downloaded at a time to avoid downloading bands with different sizes and a ```nisarImageSeries``` object is used. The single band is defined through the product filter in [search panel](#Find-Data). Run the notebook again to download other bands."
   ]
  },
  {
   "cell_type": "code",
   "execution_count": null,
   "id": "b4d0d5e6-7a2e-4c32-938d-36dac4dfa948",
   "metadata": {},
   "outputs": [],
   "source": [
    "def productType(cog):\n",
    "    ''' Extract product type from file name '''\n",
    "    return cog.split('/')[-1].split('_')[-3]\n",
    "\n",
    "if myUrls.checkIDs(['NSIDC-0723']):\n",
    "    products = nisar.nisarImageSeries()\n",
    "    products.readSeriesFromTiff(myUrls.getCogs(removeTiff=True), url=True, useStack=True)\n",
    "else:\n",
    "    print('No Image Mosaic data selected')"
   ]
  },
  {
   "cell_type": "markdown",
   "id": "841fc2fa",
   "metadata": {},
   "source": [
    "If this block ran successfully the meta data for all relevant images to create the xarray, but the actual data themselves were not downloaded. This result is now ready to be subsetted and [downloaded](#Subset-and-Download-Data)."
   ]
  },
  {
   "cell_type": "markdown",
   "id": "a59c4fb6",
   "metadata": {},
   "source": [
    "## Subset and Download Data"
   ]
  },
  {
   "cell_type": "markdown",
   "id": "934fac33",
   "metadata": {},
   "source": [
    "Before applying the final subset, its useful to examine the size of the full data (virtual) array. If the `loadDataArray` step was sucessful, this next cell will provide details on the size and organization of the full xarray (prior to any download)."
   ]
  },
  {
   "cell_type": "code",
   "execution_count": null,
   "id": "da84673c",
   "metadata": {},
   "outputs": [],
   "source": [
    "products.subset # Add ; at the end to suppress output"
   ]
  },
  {
   "cell_type": "markdown",
   "id": "3bdfd144",
   "metadata": {},
   "source": [
    "### Subset"
   ]
  },
  {
   "cell_type": "markdown",
   "id": "8f9b1879",
   "metadata": {},
   "source": [
    "For products other than those in NISDIC-0481, this next step will clip the data set to the bounding box created [above](#Spatial-Subsetting) and display the organization of the resulting subset. \n",
    "\n",
    "The box coordinates are rounded to the nearest km, which can be altered by changing the value of `decimals` below ([see numpy.around](https://docs.scipy.org/doc/numpy-1.13.0/reference/generated/numpy.around.html#numpy.around)). <a id='rounding_info'></a>"
   ]
  },
  {
   "cell_type": "code",
   "execution_count": null,
   "id": "f4ec795b",
   "metadata": {},
   "outputs": [],
   "source": [
    "if not myUrls.checkIDs(['NSIDC-0481']) and not myUrls.checkIDs(['NSIDC-0646']):  # Anything but a 481\n",
    "    products.subsetData(boxPicker.boxBounds(decimals=-3))  # -3 rounds to 1km, -2 to 100m...\n",
    "else:\n",
    "    print('NSIDC-0481 - so entire data set will be saved')\n",
    "products.subset # Add ; at the end to suppress output"
   ]
  },
  {
   "cell_type": "markdown",
   "id": "006bc090",
   "metadata": {},
   "source": [
    "If the subset product seems a reasonable size, execute the next statement to save the data. If not, repeat the [search](#Find-Data) to select different set of products or date range, repeat the box selection to choose a different sized [bounding box](#Spatial-Subsetting), or change the [bands](#Preload-Data-and-Select-Bands) that were selected. The next cell is used to specify the name, which will default to *subsetPath/prefix.NSIDC-0XXX.nc*. For NSIDC-0481 products, the box name (e.g., W69.1N) will be appended. This cell can be modified to override the default name as needed. In particular, the prefix can be updated to create names unique to each search. <a id='set_filename'></a>"
   ]
  },
  {
   "cell_type": "code",
   "execution_count": null,
   "id": "d3cff6ec-8b88-4c63-95fa-344ef518b906",
   "metadata": {},
   "outputs": [],
   "source": [
    "prefix = 'GrIMPSubset'  # Rename as needed\n",
    "# Add path defined above and append with productID (e.g., NSIDC-0723)\n",
    "subsetFile = f'{subsetPath}/{prefix}.{myUrls.getIDs()[0]}{myUrls.findTSXBoxes()[0]}.nc'\n",
    "if not myUrls.checkIDs(['NSIDC-0481']):  # Anything but a 481\n",
    "    boxPicker.saveBox(subsetFile.replace('nc', 'yaml'))   # Save box for non 481 products\n",
    "if 'NSIDC-0723' in subsetFile:\n",
    "    subsetFile = subsetFile.replace('NSIDC-0723', f'NSIDC-0723.{str(products.subset.band.data[0])}')\n",
    "print(subsetFile)"
   ]
  },
  {
   "cell_type": "markdown",
   "id": "aed9f8d3-8f06-4229-a41f-1ed28b470fca",
   "metadata": {},
   "source": [
    "### Download and Save to NetCDF"
   ]
  },
  {
   "cell_type": "markdown",
   "id": "4e652bb7",
   "metadata": {},
   "source": [
    "The data are now ready for download, which will be accomplished by running the next cell. Note, this step uses *dask* to improve download speed with multiple parallel streams ('workers'). "
   ]
  },
  {
   "cell_type": "code",
   "execution_count": null,
   "id": "7ffc7163",
   "metadata": {},
   "outputs": [],
   "source": [
    "%%time\n",
    "products.loadRemote()"
   ]
  },
  {
   "cell_type": "code",
   "execution_count": null,
   "id": "a420ebfb-da75-49ef-a9e4-5f8a34dd7ea1",
   "metadata": {},
   "outputs": [],
   "source": [
    "%%time\n",
    "products.toNetCDF(subsetFile)"
   ]
  },
  {
   "cell_type": "markdown",
   "id": "2e17dd54",
   "metadata": {},
   "source": [
    "## Visualizing the Data"
   ]
  },
  {
   "cell_type": "markdown",
   "id": "2d71b454",
   "metadata": {},
   "source": [
    "The next cell demonstrates how to read the data back into a new series object and display inspect time series at points selected with the cursor."
   ]
  },
  {
   "cell_type": "code",
   "execution_count": null,
   "id": "e9b029ba",
   "metadata": {},
   "outputs": [],
   "source": [
    "if myUrls.checkIDs(['NSIDC-0725', 'NSIDC-0727', 'NSIDC-0731', 'NSIDC-0766', 'NSIDC-0481', 'NSIDC-0646']):\n",
    "    myProduct = nisar.nisarVelSeries()\n",
    "else:\n",
    "    myProduct = nisar.nisarImageSeries()\n",
    "#\n",
    "myProduct.readFromNetCDF(subsetFile)\n",
    "myProduct.subset\n",
    "myProduct.inspect(imgOpts={'title': 'X'})\n"
   ]
  },
  {
   "cell_type": "markdown",
   "id": "34988bd1",
   "metadata": {},
   "source": [
    "The next cell allows the user to select points on the map and click to product a timeseries plot of one of the components in the data set. Change the `component` and rerun to visualize other components."
   ]
  },
  {
   "cell_type": "markdown",
   "id": "1f3bf3ac",
   "metadata": {},
   "source": [
    "If running on a remote server such as binder, uncomment, alter name if needed, and run this line to save the results in a single _zip_ file for download."
   ]
  },
  {
   "cell_type": "code",
   "execution_count": null,
   "id": "1069d5f5",
   "metadata": {},
   "outputs": [],
   "source": [
    "#!zip forDownload.zip {subsetPath}/*"
   ]
  },
  {
   "cell_type": "markdown",
   "id": "867fa060",
   "metadata": {},
   "source": [
    "This notebook is now complete. If everything ran sucessfully the data is ready for analysis in other notebooks or applications."
   ]
  },
  {
   "cell_type": "markdown",
   "id": "b0f83e99-5d33-44e0-8e37-9c3f85f9fd70",
   "metadata": {},
   "source": [
    "See the other notebooks in this repository for more examples of working with the data to produce publication ready figures."
   ]
  },
  {
   "cell_type": "code",
   "execution_count": null,
   "id": "b78953e2-0c77-4dcd-8103-7b17f79885b4",
   "metadata": {},
   "outputs": [],
   "source": []
  }
 ],
 "metadata": {
  "kernelspec": {
   "display_name": "default",
   "language": "python",
   "name": "python3"
  },
  "language_info": {
   "codemirror_mode": {
    "name": "ipython",
    "version": 3
   },
   "file_extension": ".py",
   "mimetype": "text/x-python",
   "name": "python",
   "nbconvert_exporter": "python",
   "pygments_lexer": "ipython3",
   "version": "3.13.7"
  }
 },
 "nbformat": 4,
 "nbformat_minor": 5
}
